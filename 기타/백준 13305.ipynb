{
 "cells": [
  {
   "cell_type": "code",
   "execution_count": null,
   "metadata": {},
   "outputs": [],
   "source": [
    "import sys\n",
    "\n",
    "n = int(sys.stdin.readline())\n",
    "distance_list = list(map(int, sys.stdin.readline().split()))\n",
    "oil_list = list(map(int, sys.stdin.readline().split()))\n",
    "\n",
    "price_all = 0;\n",
    "tmp_price = oil_list[0];\n",
    "\n",
    "for i in range(n) :\n",
    "    if (oil_list[i] < tmp_price ) :\n",
    "        tmp_price = oil_list[i]\n",
    "    price_all += distance_list[i] * tmp_price\n",
    "\n",
    "print(price_all)"
   ]
  },
  {
   "attachments": {},
   "cell_type": "markdown",
   "metadata": {},
   "source": [
    "최소가 되려면 어떻게?\n",
    "제일 싼 값으로 최대한 많이 가기\n",
    "언제까지?\n",
    "더 싼게 나오기 전까지\n",
    "\n",
    "그냥 가기\n",
    "\n",
    "다음 주유소에 도착했다.\n",
    "-> 더 싸면? 그걸로 계산\n",
    "-> 아니면? 그대로 계산\n",
    "\n"
   ]
  }
 ],
 "metadata": {
  "kernelspec": {
   "display_name": "Python 3",
   "language": "python",
   "name": "python3"
  },
  "language_info": {
   "name": "python",
   "version": "3.10.0 (tags/v3.10.0:b494f59, Oct  4 2021, 19:00:18) [MSC v.1929 64 bit (AMD64)]"
  },
  "orig_nbformat": 4,
  "vscode": {
   "interpreter": {
    "hash": "fb4569285eef3a3450cb62085a5b1e0da4bce0af555edc33dcf29baf3acc1368"
   }
  }
 },
 "nbformat": 4,
 "nbformat_minor": 2
}
